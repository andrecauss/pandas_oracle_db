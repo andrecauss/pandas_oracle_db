{
 "cells": [
  {
   "cell_type": "code",
   "execution_count": 1,
   "metadata": {},
   "outputs": [],
   "source": [
    "import warnings\n",
    "warnings.filterwarnings(\"ignore\")"
   ]
  },
  {
   "cell_type": "code",
   "execution_count": 2,
   "metadata": {},
   "outputs": [],
   "source": [
    "import pandas as pd\n",
    "from connect_oracle import criar_conexao"
   ]
  },
  {
   "cell_type": "code",
   "execution_count": 3,
   "metadata": {},
   "outputs": [],
   "source": [
    "df = pd.read_excel(\"superstore.xlsx\", sheet_name=\"Orders\")"
   ]
  },
  {
   "cell_type": "code",
   "execution_count": 4,
   "metadata": {},
   "outputs": [],
   "source": [
    "connection = criar_conexao()\n",
    "cursor = connection.cursor()"
   ]
  },
  {
   "cell_type": "code",
   "execution_count": 72,
   "metadata": {},
   "outputs": [],
   "source": [
    "cursor.execute(\"\"\"\n",
    "    begin\n",
    "        execute immediate 'drop table orders';\n",
    "        exception when others then if sqlcode <> -942 then raise; end if;\n",
    "    end;\"\"\")"
   ]
  },
  {
   "cell_type": "code",
   "execution_count": 73,
   "metadata": {},
   "outputs": [],
   "source": [
    "cursor.execute(\"\"\"\n",
    "    create table orders (\n",
    "               Order_ID number generated always as identity,\n",
    "               Order_Code varchar2(15),\n",
    "               Order_Date date,\n",
    "               Customer_ID varchar2(8),\n",
    "               Ship_Date date,\n",
    "               Ship_Mode varchar2(20),\n",
    "               Product_ID varchar2(15),\n",
    "               Sales number(10,2),\n",
    "               Quantity number (10,0),\n",
    "               Discount number(10,2),\n",
    "               Profit number(10,2),\n",
    "               primary key (Order_ID))\"\"\")"
   ]
  },
  {
   "cell_type": "code",
   "execution_count": 62,
   "metadata": {},
   "outputs": [
    {
     "data": {
      "text/plain": [
       "Index(['Row ID', 'Order ID', 'Order Date', 'Ship Date', 'Ship Mode',\n",
       "       'Customer ID', 'Customer Name', 'Segment', 'Country', 'City', 'State',\n",
       "       'Postal Code', 'Region', 'Product ID', 'Category', 'Sub-Category',\n",
       "       'Product Name', 'Sales', 'Quantity', 'Discount', 'Profit'],\n",
       "      dtype='object')"
      ]
     },
     "execution_count": 62,
     "metadata": {},
     "output_type": "execute_result"
    }
   ],
   "source": [
    "df.columns"
   ]
  },
  {
   "cell_type": "code",
   "execution_count": 63,
   "metadata": {},
   "outputs": [],
   "source": [
    "orders = df.drop(\n",
    "    columns=[\n",
    "        'Row ID', \n",
    "        'Customer Name', \n",
    "        'Segment', \n",
    "        'Country', \n",
    "        'City', \n",
    "        'State', \n",
    "        'Postal Code', \n",
    "        'Region', \n",
    "        'Category', \n",
    "        'Sub-Category',\n",
    "        'Product Name'])"
   ]
  },
  {
   "cell_type": "code",
   "execution_count": 75,
   "metadata": {},
   "outputs": [
    {
     "data": {
      "text/plain": [
       "Index(['Order_Code', 'Order_Date', 'Ship_Date', 'Ship_Mode', 'Customer_ID',\n",
       "       'Product_ID', 'Sales', 'Quantity', 'Discount', 'Profit'],\n",
       "      dtype='object')"
      ]
     },
     "execution_count": 75,
     "metadata": {},
     "output_type": "execute_result"
    }
   ],
   "source": [
    "orders.columns"
   ]
  },
  {
   "cell_type": "code",
   "execution_count": 76,
   "metadata": {},
   "outputs": [],
   "source": [
    "orders.rename(\n",
    "    columns={\n",
    "        'Order ID': 'Order_Code',\n",
    "        'Order Date': 'Order_Date',\n",
    "        'Ship Date': 'Ship_Date',\n",
    "        'Ship Mode': 'Ship_Mode',\n",
    "        'Customer ID': 'Customer_ID',\n",
    "        'Product ID': 'Product_ID'}, inplace=True)"
   ]
  },
  {
   "cell_type": "code",
   "execution_count": 77,
   "metadata": {},
   "outputs": [
    {
     "data": {
      "text/plain": [
       "Index(['Order_Code', 'Order_Date', 'Ship_Date', 'Ship_Mode', 'Customer_ID',\n",
       "       'Product_ID', 'Sales', 'Quantity', 'Discount', 'Profit'],\n",
       "      dtype='object')"
      ]
     },
     "execution_count": 77,
     "metadata": {},
     "output_type": "execute_result"
    }
   ],
   "source": [
    "orders.columns"
   ]
  },
  {
   "cell_type": "code",
   "execution_count": 79,
   "metadata": {},
   "outputs": [],
   "source": [
    "\n",
    "from datetime import date\n",
    "\n",
    "\n",
    "query = []\n",
    "for index, row in orders.iterrows():\n",
    "    query += [(\n",
    "        str(orders.Order_Code[index]),\n",
    "        (orders.Order_Date[index]),\n",
    "        (orders.Ship_Date[index]),\n",
    "        str(orders.Ship_Mode[index]),\n",
    "        str(orders.Customer_ID[index]),\n",
    "        str(orders.Product_ID[index]),\n",
    "        float(orders.Sales[index]),\n",
    "        int(orders.Quantity[index]),\n",
    "        float(orders.Discount[index]),\n",
    "        float(orders.Profit[index])\n",
    "    )]"
   ]
  },
  {
   "cell_type": "code",
   "execution_count": 80,
   "metadata": {},
   "outputs": [
    {
     "name": "stdout",
     "output_type": "stream",
     "text": [
      "9994 Rows Inserted\n"
     ]
    }
   ],
   "source": [
    "cursor.executemany(\"\"\"\n",
    "    INSERT INTO orders (\n",
    "        Order_Code, \n",
    "        Order_Date, \n",
    "        Ship_Date,\n",
    "        Ship_Mode,\n",
    "        Customer_ID,\n",
    "        Product_ID,\n",
    "        Sales,\n",
    "        Quantity,\n",
    "        Discount,\n",
    "        Profit\n",
    "    ) VALUES (:1, :2, :3, :4, :5, :6, :7, :8, :9, :10)\"\"\", query)\n",
    "\n",
    "print(cursor.rowcount, \"Rows Inserted\")\n"
   ]
  },
  {
   "cell_type": "code",
   "execution_count": 69,
   "metadata": {},
   "outputs": [],
   "source": [
    "connection.commit()"
   ]
  },
  {
   "cell_type": "code",
   "execution_count": 51,
   "metadata": {},
   "outputs": [],
   "source": [
    "connection.close()"
   ]
  },
  {
   "cell_type": "code",
   "execution_count": null,
   "metadata": {},
   "outputs": [],
   "source": []
  }
 ],
 "metadata": {
  "kernelspec": {
   "display_name": "base",
   "language": "python",
   "name": "python3"
  },
  "language_info": {
   "codemirror_mode": {
    "name": "ipython",
    "version": 3
   },
   "file_extension": ".py",
   "mimetype": "text/x-python",
   "name": "python",
   "nbconvert_exporter": "python",
   "pygments_lexer": "ipython3",
   "version": "3.11.4"
  },
  "orig_nbformat": 4
 },
 "nbformat": 4,
 "nbformat_minor": 2
}
